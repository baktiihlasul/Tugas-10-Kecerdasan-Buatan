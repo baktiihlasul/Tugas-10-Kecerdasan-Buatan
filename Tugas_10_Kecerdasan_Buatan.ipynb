{
  "cells": [
    {
      "cell_type": "markdown",
      "id": "314f23ac",
      "metadata": {
        "id": "314f23ac"
      },
      "source": [
        "## 1. Data dan Representasi Kromosom\n",
        "Kromosom direpresentasikan sebagai list `[guru, mata pelajaran, kelas, waktu]`."
      ]
    },
    {
      "cell_type": "code",
      "execution_count": 1,
      "id": "81417658",
      "metadata": {
        "id": "81417658"
      },
      "outputs": [],
      "source": [
        "import random\n",
        "\n",
        "# Data contoh\n",
        "teachers = ['Guru A', 'Guru B', 'Guru C']\n",
        "subjects = ['Matematika', 'Fisika', 'Kimia']\n",
        "classes = ['Kelas 1', 'Kelas 2', 'Kelas 3']\n",
        "timeslots = ['Senin P1', 'Senin P2', 'Selasa P1', 'Selasa P2']\n",
        "\n",
        "# Membuat individu/kromosom\n",
        "def create_individual():\n",
        "    return [\n",
        "        random.choice(teachers),\n",
        "        random.choice(subjects),\n",
        "        random.choice(classes),\n",
        "        random.choice(timeslots)\n",
        "    ]"
      ]
    },
    {
      "cell_type": "markdown",
      "id": "d04279bb",
      "metadata": {
        "id": "d04279bb"
      },
      "source": [
        "## 2. Fungsi Fitness\n"
      ]
    },
    {
      "cell_type": "code",
      "execution_count": 2,
      "id": "c6908ea9",
      "metadata": {
        "id": "c6908ea9"
      },
      "outputs": [],
      "source": [
        "def fitness(individual, schedule):\n",
        "    conflicts = 0\n",
        "    for i in range(len(schedule)):\n",
        "        for j in range(i + 1, len(schedule)):\n",
        "            if individual[2] == schedule[i][2] and individual[3] == schedule[i][3]:\n",
        "                conflicts += 1\n",
        "    return conflicts"
      ]
    },
    {
      "cell_type": "markdown",
      "id": "4c34982b",
      "metadata": {
        "id": "4c34982b"
      },
      "source": [
        "## 3. Seleksi\n"
      ]
    },
    {
      "cell_type": "code",
      "execution_count": 3,
      "id": "7bc6cd6b",
      "metadata": {
        "id": "7bc6cd6b"
      },
      "outputs": [],
      "source": [
        "def selection(population, schedule):\n",
        "    sorted_population = sorted(population, key=lambda ind: fitness(ind, schedule))\n",
        "    return sorted_population[:2]"
      ]
    },
    {
      "cell_type": "markdown",
      "id": "f7c38fde",
      "metadata": {
        "id": "f7c38fde"
      },
      "source": [
        "## 4. Crossover"
      ]
    },
    {
      "cell_type": "code",
      "execution_count": 4,
      "id": "c82d7a0f",
      "metadata": {
        "id": "c82d7a0f"
      },
      "outputs": [],
      "source": [
        "def crossover(parent1, parent2):\n",
        "    crossover_point = random.randint(1, 3)\n",
        "    child1 = parent1[:crossover_point] + parent2[crossover_point:]\n",
        "    child2 = parent2[:crossover_point] + parent1[crossover_point:]\n",
        "    return child1, child2"
      ]
    },
    {
      "cell_type": "markdown",
      "id": "631d8a5b",
      "metadata": {
        "id": "631d8a5b"
      },
      "source": [
        "## 5. Mutasi"
      ]
    },
    {
      "cell_type": "code",
      "execution_count": 5,
      "id": "08db75fb",
      "metadata": {
        "id": "08db75fb"
      },
      "outputs": [],
      "source": [
        "def mutate(individual):\n",
        "    mutation_point = random.randint(0, 3)\n",
        "    if mutation_point == 0:\n",
        "        individual[mutation_point] = random.choice(teachers)\n",
        "    elif mutation_point == 1:\n",
        "        individual[mutation_point] = random.choice(subjects)\n",
        "    elif mutation_point == 2:\n",
        "        individual[mutation_point] = random.choice(classes)\n",
        "    else:\n",
        "        individual[mutation_point] = random.choice(timeslots)\n",
        "    return individual"
      ]
    },
    {
      "cell_type": "markdown",
      "id": "04d8e777",
      "metadata": {
        "id": "04d8e777"
      },
      "source": [
        "## 6. Algoritma Genetika Utama"
      ]
    },
    {
      "cell_type": "code",
      "execution_count": 6,
      "id": "32ae373b",
      "metadata": {
        "colab": {
          "base_uri": "https://localhost:8080/"
        },
        "id": "32ae373b",
        "outputId": "4eff553f-b79e-4736-aa37-cdec74bcbd66"
      },
      "outputs": [
        {
          "output_type": "stream",
          "name": "stdout",
          "text": [
            "Generasi 1: ['Guru A', 'Fisika', 'Kelas 3', 'Selasa P2'] | Fitness: 0\n",
            "Generasi 2: ['Guru C', 'Fisika', 'Kelas 3', 'Selasa P2'] | Fitness: 1\n",
            "Generasi 3: ['Guru B', 'Matematika', 'Kelas 2', 'Selasa P2'] | Fitness: 0\n",
            "Generasi 4: ['Guru B', 'Matematika', 'Kelas 2', 'Selasa P1'] | Fitness: 0\n",
            "Generasi 5: ['Guru B', 'Matematika', 'Kelas 1', 'Selasa P2'] | Fitness: 0\n",
            "Generasi 6: ['Guru B', 'Fisika', 'Kelas 1', 'Selasa P1'] | Fitness: 0\n",
            "Generasi 7: ['Guru B', 'Kimia', 'Kelas 1', 'Senin P2'] | Fitness: 0\n",
            "Generasi 8: ['Guru B', 'Matematika', 'Kelas 1', 'Senin P1'] | Fitness: 0\n",
            "Generasi 9: ['Guru B', 'Fisika', 'Kelas 1', 'Senin P1'] | Fitness: 1\n",
            "Generasi 10: ['Guru C', 'Matematika', 'Kelas 3', 'Senin P2'] | Fitness: 0\n",
            "Generasi 11: ['Guru C', 'Matematika', 'Kelas 2', 'Senin P1'] | Fitness: 0\n",
            "Generasi 12: ['Guru C', 'Matematika', 'Kelas 2', 'Senin P1'] | Fitness: 1\n",
            "Generasi 13: ['Guru C', 'Matematika', 'Kelas 3', 'Senin P1'] | Fitness: 0\n",
            "Generasi 14: ['Guru C', 'Matematika', 'Kelas 3', 'Senin P1'] | Fitness: 1\n",
            "Generasi 15: ['Guru C', 'Matematika', 'Kelas 3', 'Selasa P1'] | Fitness: 0\n",
            "Generasi 16: ['Guru C', 'Matematika', 'Kelas 3', 'Selasa P1'] | Fitness: 1\n",
            "Generasi 17: ['Guru C', 'Matematika', 'Kelas 3', 'Selasa P1'] | Fitness: 3\n",
            "Generasi 18: ['Guru B', 'Fisika', 'Kelas 3', 'Selasa P1'] | Fitness: 6\n",
            "Generasi 19: ['Guru A', 'Matematika', 'Kelas 3', 'Selasa P1'] | Fitness: 10\n",
            "Generasi 20: ['Guru C', 'Fisika', 'Kelas 2', 'Senin P2'] | Fitness: 0\n",
            "Generasi 21: ['Guru C', 'Fisika', 'Kelas 2', 'Senin P2'] | Fitness: 1\n",
            "Generasi 22: ['Guru C', 'Matematika', 'Kelas 2', 'Senin P2'] | Fitness: 3\n",
            "Generasi 23: ['Guru B', 'Fisika', 'Kelas 2', 'Senin P2'] | Fitness: 6\n",
            "Generasi 24: ['Guru C', 'Kimia', 'Kelas 2', 'Senin P2'] | Fitness: 10\n",
            "Generasi 25: ['Guru C', 'Fisika', 'Kelas 2', 'Senin P2'] | Fitness: 15\n",
            "Generasi 26: ['Guru C', 'Fisika', 'Kelas 3', 'Senin P2'] | Fitness: 16\n",
            "Generasi 27: ['Guru C', 'Matematika', 'Kelas 3', 'Senin P2'] | Fitness: 18\n",
            "Generasi 28: ['Guru C', 'Matematika', 'Kelas 3', 'Senin P2'] | Fitness: 21\n",
            "Generasi 29: ['Guru A', 'Matematika', 'Kelas 3', 'Senin P2'] | Fitness: 25\n",
            "Generasi 30: ['Guru A', 'Matematika', 'Kelas 1', 'Senin P2'] | Fitness: 23\n",
            "Generasi 31: ['Guru A', 'Matematika', 'Kelas 1', 'Senin P2'] | Fitness: 25\n",
            "Generasi 32: ['Guru A', 'Fisika', 'Kelas 1', 'Selasa P1'] | Fitness: 26\n",
            "Generasi 33: ['Guru A', 'Fisika', 'Kelas 1', 'Selasa P1'] | Fitness: 28\n",
            "Generasi 34: ['Guru A', 'Kimia', 'Kelas 1', 'Selasa P1'] | Fitness: 31\n",
            "Generasi 35: ['Guru A', 'Kimia', 'Kelas 1', 'Selasa P2'] | Fitness: 30\n",
            "Generasi 36: ['Guru A', 'Matematika', 'Kelas 1', 'Selasa P2'] | Fitness: 32\n",
            "Generasi 37: ['Guru A', 'Matematika', 'Kelas 1', 'Selasa P2'] | Fitness: 35\n",
            "Generasi 38: ['Guru A', 'Matematika', 'Kelas 2', 'Selasa P2'] | Fitness: 35\n",
            "Generasi 39: ['Guru C', 'Matematika', 'Kelas 2', 'Selasa P1'] | Fitness: 35\n",
            "Generasi 40: ['Guru C', 'Matematika', 'Kelas 2', 'Selasa P1'] | Fitness: 37\n",
            "Generasi 41: ['Guru A', 'Matematika', 'Kelas 2', 'Selasa P1'] | Fitness: 40\n",
            "Generasi 42: ['Guru A', 'Matematika', 'Kelas 2', 'Selasa P1'] | Fitness: 44\n",
            "Generasi 43: ['Guru A', 'Matematika', 'Kelas 2', 'Selasa P2'] | Fitness: 45\n",
            "Generasi 44: ['Guru C', 'Matematika', 'Kelas 2', 'Selasa P2'] | Fitness: 48\n",
            "Generasi 45: ['Guru C', 'Kimia', 'Kelas 2', 'Selasa P2'] | Fitness: 52\n",
            "Generasi 46: ['Guru C', 'Kimia', 'Kelas 2', 'Selasa P2'] | Fitness: 57\n",
            "Generasi 47: ['Guru C', 'Fisika', 'Kelas 2', 'Selasa P2'] | Fitness: 63\n",
            "Generasi 48: ['Guru C', 'Kimia', 'Kelas 2', 'Selasa P2'] | Fitness: 70\n",
            "Generasi 49: ['Guru C', 'Matematika', 'Kelas 2', 'Selasa P2'] | Fitness: 78\n",
            "Generasi 50: ['Guru A', 'Matematika', 'Kelas 2', 'Senin P1'] | Fitness: 77\n",
            "\n",
            "Jadwal Akhir:\n",
            "Kelas 3 - Fisika oleh Guru A pada Selasa P2\n",
            "Kelas 3 - Fisika oleh Guru C pada Selasa P2\n",
            "Kelas 2 - Matematika oleh Guru B pada Selasa P2\n",
            "Kelas 2 - Matematika oleh Guru B pada Selasa P1\n",
            "Kelas 1 - Matematika oleh Guru B pada Selasa P2\n",
            "Kelas 1 - Fisika oleh Guru B pada Selasa P1\n",
            "Kelas 1 - Kimia oleh Guru B pada Senin P2\n",
            "Kelas 1 - Matematika oleh Guru B pada Senin P1\n",
            "Kelas 1 - Fisika oleh Guru B pada Senin P1\n",
            "Kelas 3 - Matematika oleh Guru C pada Senin P2\n",
            "Kelas 2 - Matematika oleh Guru C pada Senin P1\n",
            "Kelas 2 - Matematika oleh Guru C pada Senin P1\n",
            "Kelas 3 - Matematika oleh Guru C pada Senin P1\n",
            "Kelas 3 - Matematika oleh Guru C pada Senin P1\n",
            "Kelas 3 - Matematika oleh Guru C pada Selasa P1\n",
            "Kelas 3 - Matematika oleh Guru C pada Selasa P1\n",
            "Kelas 3 - Matematika oleh Guru C pada Selasa P1\n",
            "Kelas 3 - Fisika oleh Guru B pada Selasa P1\n",
            "Kelas 3 - Matematika oleh Guru A pada Selasa P1\n",
            "Kelas 2 - Fisika oleh Guru C pada Senin P2\n",
            "Kelas 2 - Fisika oleh Guru C pada Senin P2\n",
            "Kelas 2 - Matematika oleh Guru C pada Senin P2\n",
            "Kelas 2 - Fisika oleh Guru B pada Senin P2\n",
            "Kelas 2 - Kimia oleh Guru C pada Senin P2\n",
            "Kelas 2 - Fisika oleh Guru C pada Senin P2\n",
            "Kelas 3 - Fisika oleh Guru C pada Senin P2\n",
            "Kelas 3 - Matematika oleh Guru C pada Senin P2\n",
            "Kelas 3 - Matematika oleh Guru C pada Senin P2\n",
            "Kelas 3 - Matematika oleh Guru A pada Senin P2\n",
            "Kelas 1 - Matematika oleh Guru A pada Senin P2\n",
            "Kelas 1 - Matematika oleh Guru A pada Senin P2\n",
            "Kelas 1 - Fisika oleh Guru A pada Selasa P1\n",
            "Kelas 1 - Fisika oleh Guru A pada Selasa P1\n",
            "Kelas 1 - Kimia oleh Guru A pada Selasa P1\n",
            "Kelas 1 - Kimia oleh Guru A pada Selasa P2\n",
            "Kelas 1 - Matematika oleh Guru A pada Selasa P2\n",
            "Kelas 1 - Matematika oleh Guru A pada Selasa P2\n",
            "Kelas 2 - Matematika oleh Guru A pada Selasa P2\n",
            "Kelas 2 - Matematika oleh Guru C pada Selasa P1\n",
            "Kelas 2 - Matematika oleh Guru C pada Selasa P1\n",
            "Kelas 2 - Matematika oleh Guru A pada Selasa P1\n",
            "Kelas 2 - Matematika oleh Guru A pada Selasa P1\n",
            "Kelas 2 - Matematika oleh Guru A pada Selasa P2\n",
            "Kelas 2 - Matematika oleh Guru C pada Selasa P2\n",
            "Kelas 2 - Kimia oleh Guru C pada Selasa P2\n",
            "Kelas 2 - Kimia oleh Guru C pada Selasa P2\n",
            "Kelas 2 - Fisika oleh Guru C pada Selasa P2\n",
            "Kelas 2 - Kimia oleh Guru C pada Selasa P2\n",
            "Kelas 2 - Matematika oleh Guru C pada Selasa P2\n",
            "Kelas 2 - Matematika oleh Guru A pada Senin P1\n"
          ]
        }
      ],
      "source": [
        "def genetic_algorithm():\n",
        "    population_size = 10\n",
        "    generations = 50\n",
        "    population = [create_individual() for _ in range(population_size)]\n",
        "    schedule = []\n",
        "\n",
        "    for generation in range(generations):\n",
        "        new_population = []\n",
        "        for _ in range(population_size // 2):\n",
        "            parent1, parent2 = selection(population, schedule)\n",
        "            child1, child2 = crossover(parent1, parent2)\n",
        "            new_population.extend([mutate(child1), mutate(child2)])\n",
        "        population = new_population\n",
        "        best_individual = min(population, key=lambda ind: fitness(ind, schedule))\n",
        "        schedule.append(best_individual)\n",
        "        print(f\"Generasi {generation + 1}: {best_individual} | Fitness: {fitness(best_individual, schedule)}\")\n",
        "\n",
        "    print(\"\\nJadwal Akhir:\")\n",
        "    for ind in schedule:\n",
        "        print(f\"{ind[2]} - {ind[1]} oleh {ind[0]} pada {ind[3]}\")\n",
        "\n",
        "genetic_algorithm()"
      ]
    }
  ],
  "metadata": {
    "colab": {
      "provenance": []
    },
    "language_info": {
      "name": "python"
    },
    "kernelspec": {
      "name": "python3",
      "display_name": "Python 3"
    }
  },
  "nbformat": 4,
  "nbformat_minor": 5
}